{
 "cells": [
  {
   "cell_type": "code",
   "execution_count": 1,
   "id": "a9ee6d05",
   "metadata": {},
   "outputs": [],
   "source": [
    "# import dependencies\n",
    "from splinter import Browser\n",
    "from bs4 import BeautifulSoup as bs\n",
    "import requests\n",
    "import time\n",
    "import pandas as pd"
   ]
  },
  {
   "cell_type": "code",
   "execution_count": 2,
   "id": "2b9b5d44",
   "metadata": {},
   "outputs": [],
   "source": [
    "# Initialize browser\n",
    "executable_path = {'executable_path':'chromedriver'}\n",
    "browser = Browser('chrome', **executable_path, headless=False)"
   ]
  },
  {
   "cell_type": "markdown",
   "id": "f945e10e",
   "metadata": {},
   "source": [
    "### NASA Mars News\n"
   ]
  },
  {
   "cell_type": "code",
   "execution_count": 3,
   "id": "23ca2fc8",
   "metadata": {},
   "outputs": [],
   "source": [
    "# URL of page to be scraped - NASA Mars News Site \n",
    "url = 'https://redplanetscience.com/'\n",
    "browser.visit(url)\n",
    "\n",
    "time.sleep(5)\n",
    "\n",
    "html = browser.html\n",
    "soup = bs(html, 'html.parser')\n",
    "#browser.is_element_present_by_css(\"ul.item_list li.slide\")"
   ]
  },
  {
   "cell_type": "code",
   "execution_count": 4,
   "id": "c7fde5a4",
   "metadata": {},
   "outputs": [
    {
     "data": {
      "text/plain": [
       "\"How NASA's Perseverance Mars Team Adjusted to Work in the Time of Coronavirus \""
      ]
     },
     "execution_count": 4,
     "metadata": {},
     "output_type": "execute_result"
    }
   ],
   "source": [
    "items_list = soup.find_all('div', class_='list_text')\n",
    "item = soup.find('div', class_='list_text')\n",
    "news_title = item.find('div', class_='content_title').text\n",
    "news_title"
   ]
  },
  {
   "cell_type": "code",
   "execution_count": 5,
   "id": "e3451de9",
   "metadata": {},
   "outputs": [
    {
     "data": {
      "text/plain": [
       "'Like much of the rest of the world, the Mars rover team is pushing forward with its mission-critical work while putting the health and safety of their colleagues and community first.'"
      ]
     },
     "execution_count": 5,
     "metadata": {},
     "output_type": "execute_result"
    }
   ],
   "source": [
    "date = item.find('div', class_='list_date').text\n",
    "news_p = item.find('div', class_='article_teaser_body').text\n",
    "news_p"
   ]
  },
  {
   "cell_type": "markdown",
   "id": "af82ad4a",
   "metadata": {},
   "source": [
    "### JPL Mars Space Images - Featured Image"
   ]
  },
  {
   "cell_type": "code",
   "execution_count": 6,
   "id": "2c7334c8",
   "metadata": {},
   "outputs": [],
   "source": [
    "browser = Browser('chrome', **executable_path, headless=False)"
   ]
  },
  {
   "cell_type": "code",
   "execution_count": 7,
   "id": "70f209eb",
   "metadata": {},
   "outputs": [],
   "source": [
    "image_url = 'https://spaceimages-mars.com'\n",
    "browser.visit(image_url)\n",
    "# Browse through the page\n",
    "time.sleep(5)\n",
    "\n"
   ]
  },
  {
   "cell_type": "code",
   "execution_count": 8,
   "id": "d36b46e8",
   "metadata": {},
   "outputs": [
    {
     "name": "stdout",
     "output_type": "stream",
     "text": [
      "<div class=\"fancybox-overlay fancybox-overlay-fixed\" style=\"width: auto; height: auto; display: block;\"><div class=\"fancybox-wrap fancybox-desktop fancybox-type-image\" style=\"width: 670px; height: 380px; position: absolute; top: 79px; left: 174px; opacity: 0.294729; overflow: hidden;\" tabindex=\"-1\"><div class=\"fancybox-skin\" style=\"padding: 15px; width: auto; height: auto;\"><div class=\"fancybox-outer\"><div class=\"fancybox-inner\" style=\"overflow: visible; width: 640px; height: 350px;\"><img alt=\"\" class=\"fancybox-image\" src=\"image/featured/mars3.jpg\"/></div></div></div></div></div>\n",
      "<div class=\"fancybox-inner\" style=\"overflow: visible; width: 640px; height: 350px;\"><img alt=\"\" class=\"fancybox-image\" src=\"image/featured/mars3.jpg\"/></div>\n",
      "image/featured/mars3.jpg\n"
     ]
    }
   ],
   "source": [
    "# find the related image url\n",
    "browser.links.find_by_partial_text('FULL IMAGE').click()\n",
    "\n",
    "\n",
    "image_html = browser.html\n",
    "image_soup = bs(image_html, 'html.parser')\n",
    "\n",
    "\n",
    "image_list = image_soup.find('div',class_='fancybox-overlay')\n",
    "print(image_list)\n",
    "image_list = image_list.find('div',class_='fancybox-inner')\n",
    "print(image_list)\n",
    "image_url = image_list.find('img',class_='fancybox-image').get('src')\n",
    "print(image_url)"
   ]
  },
  {
   "cell_type": "code",
   "execution_count": 9,
   "id": "5757cde5",
   "metadata": {},
   "outputs": [
    {
     "data": {
      "text/plain": [
       "'https://spaceimages-mars.com image/featured/mars3.jpg'"
      ]
     },
     "execution_count": 9,
     "metadata": {},
     "output_type": "execute_result"
    }
   ],
   "source": [
    "featured_image_url = f'https://spaceimages-mars.com {image_url}'\n",
    "featured_image_url"
   ]
  },
  {
   "cell_type": "markdown",
   "id": "2bfd76ee",
   "metadata": {},
   "source": [
    "### Mars Facts"
   ]
  },
  {
   "cell_type": "code",
   "execution_count": 10,
   "id": "0a522402",
   "metadata": {},
   "outputs": [],
   "source": [
    "browser = Browser('chrome', **executable_path, headless=False)\n",
    "\n",
    "marsfact_url = 'https://galaxyfacts-mars.com'\n",
    "browser.visit(marsfact_url)\n",
    "\n",
    "time.sleep(5)\n",
    "\n",
    "marsfact_html = browser.html\n",
    "marsfact_soup = bs(marsfact_html, 'html.parser')"
   ]
  },
  {
   "cell_type": "code",
   "execution_count": 11,
   "id": "e2cfc44b",
   "metadata": {},
   "outputs": [
    {
     "data": {
      "text/html": [
       "<div>\n",
       "<style scoped>\n",
       "    .dataframe tbody tr th:only-of-type {\n",
       "        vertical-align: middle;\n",
       "    }\n",
       "\n",
       "    .dataframe tbody tr th {\n",
       "        vertical-align: top;\n",
       "    }\n",
       "\n",
       "    .dataframe thead th {\n",
       "        text-align: right;\n",
       "    }\n",
       "</style>\n",
       "<table border=\"1\" class=\"dataframe\">\n",
       "  <thead>\n",
       "    <tr style=\"text-align: right;\">\n",
       "      <th></th>\n",
       "      <th>Mars</th>\n",
       "      <th>Earth</th>\n",
       "    </tr>\n",
       "    <tr>\n",
       "      <th>Measurement</th>\n",
       "      <th></th>\n",
       "      <th></th>\n",
       "    </tr>\n",
       "  </thead>\n",
       "  <tbody>\n",
       "    <tr>\n",
       "      <th>Mars - Earth Comparison</th>\n",
       "      <td>Mars</td>\n",
       "      <td>Earth</td>\n",
       "    </tr>\n",
       "    <tr>\n",
       "      <th>Diameter:</th>\n",
       "      <td>6,779 km</td>\n",
       "      <td>12,742 km</td>\n",
       "    </tr>\n",
       "    <tr>\n",
       "      <th>Mass:</th>\n",
       "      <td>6.39 × 10^23 kg</td>\n",
       "      <td>5.97 × 10^24 kg</td>\n",
       "    </tr>\n",
       "    <tr>\n",
       "      <th>Moons:</th>\n",
       "      <td>2</td>\n",
       "      <td>1</td>\n",
       "    </tr>\n",
       "    <tr>\n",
       "      <th>Distance from Sun:</th>\n",
       "      <td>227,943,824 km</td>\n",
       "      <td>149,598,262 km</td>\n",
       "    </tr>\n",
       "    <tr>\n",
       "      <th>Length of Year:</th>\n",
       "      <td>687 Earth days</td>\n",
       "      <td>365.24 days</td>\n",
       "    </tr>\n",
       "    <tr>\n",
       "      <th>Temperature:</th>\n",
       "      <td>-87 to -5 °C</td>\n",
       "      <td>-88 to 58°C</td>\n",
       "    </tr>\n",
       "  </tbody>\n",
       "</table>\n",
       "</div>"
      ],
      "text/plain": [
       "                                    Mars            Earth\n",
       "Measurement                                              \n",
       "Mars - Earth Comparison             Mars            Earth\n",
       "Diameter:                       6,779 km        12,742 km\n",
       "Mass:                    6.39 × 10^23 kg  5.97 × 10^24 kg\n",
       "Moons:                                 2                1\n",
       "Distance from Sun:        227,943,824 km   149,598,262 km\n",
       "Length of Year:           687 Earth days      365.24 days\n",
       "Temperature:                -87 to -5 °C      -88 to 58°C"
      ]
     },
     "execution_count": 11,
     "metadata": {},
     "output_type": "execute_result"
    }
   ],
   "source": [
    "marsfacts = pd.read_html(marsfact_url)[0]\n",
    "marsfacts.columns = ['Measurement', 'Mars',\"Earth\"]\n",
    "marsfacts.set_index('Measurement', inplace=True)\n",
    "marsfacts\n"
   ]
  },
  {
   "cell_type": "code",
   "execution_count": 12,
   "id": "bb56b6e7",
   "metadata": {},
   "outputs": [],
   "source": [
    "\n",
    "marsfacts = marsfacts.iloc[1:7].to_html(\"Resources\\marsfacts.html\")"
   ]
  },
  {
   "cell_type": "markdown",
   "id": "8c86e458",
   "metadata": {},
   "source": [
    "### Mars Hemispheres"
   ]
  },
  {
   "cell_type": "code",
   "execution_count": 13,
   "id": "47dcb9e7",
   "metadata": {},
   "outputs": [],
   "source": [
    "browser = Browser('chrome', **executable_path, headless=False)\n",
    "\n",
    "hemisphere_url = 'https://marshemispheres.com/'\n",
    "browser.visit(hemisphere_url)\n",
    "\n",
    "time.sleep(5)\n",
    "\n",
    "hemisphere_html = browser.html\n",
    "hemisphere_soup = bs(hemisphere_html, 'html.parser')\n"
   ]
  },
  {
   "cell_type": "code",
   "execution_count": 14,
   "id": "614a5a38",
   "metadata": {},
   "outputs": [],
   "source": [
    "# Create an empty list to hold dictionaries of hemisphere title with the image url string\n",
    "hemisphere_image_urls = []\n",
    "hemisphere_list = hemisphere_soup.find_all('div', class_='item')\n",
    "for item in hemisphere_list:\n",
    "    \n",
    "    url = 'https://marshemispheres.com/'\n",
    "    \n",
    "    title = item.find('h3').text\n",
    "    title = title.replace('Enhanced', '')\n",
    "    link = item.find('a')['href']\n",
    "    full_link = url + link\n",
    "    \n",
    "    executable_path = {'executable_path': 'chromedriver'}\n",
    "    browser = Browser('chrome', **executable_path, headless=False)\n",
    "    browser.visit(full_link)\n",
    "    time.sleep(5)\n",
    "    html = browser.html\n",
    "    soup = bs(html, 'html.parser')\n",
    "        \n",
    "    \n",
    "    \n",
    "    \n",
    "    downloads = soup.find('div', class_='downloads')\n",
    "    image = downloads.find('a')['href']\n",
    "    \n",
    "    entry = {title: image}\n",
    "    hemisphere_image_urls.append(entry)\n"
   ]
  },
  {
   "cell_type": "code",
   "execution_count": 15,
   "id": "f922468c",
   "metadata": {},
   "outputs": [
    {
     "data": {
      "text/plain": [
       "[{'Cerberus Hemisphere ': 'images/full.jpg'},\n",
       " {'Schiaparelli Hemisphere ': 'images/schiaparelli_enhanced-full.jpg'},\n",
       " {'Syrtis Major Hemisphere ': 'images/syrtis_major_enhanced-full.jpg'},\n",
       " {'Valles Marineris Hemisphere ': 'images/valles_marineris_enhanced-full.jpg'}]"
      ]
     },
     "execution_count": 15,
     "metadata": {},
     "output_type": "execute_result"
    }
   ],
   "source": [
    "hemisphere_image_urls"
   ]
  },
  {
   "cell_type": "code",
   "execution_count": null,
   "id": "9e712495",
   "metadata": {},
   "outputs": [],
   "source": []
  }
 ],
 "metadata": {
  "interpreter": {
   "hash": "c5bcc060ecdc29ed7233f78fd33cfaec85762656ddf6ce38ab7858766578ab71"
  },
  "kernelspec": {
   "display_name": "Python 3 (ipykernel)",
   "language": "python",
   "name": "python3"
  },
  "language_info": {
   "codemirror_mode": {
    "name": "ipython",
    "version": 3
   },
   "file_extension": ".py",
   "mimetype": "text/x-python",
   "name": "python",
   "nbconvert_exporter": "python",
   "pygments_lexer": "ipython3",
   "version": "3.9.6"
  }
 },
 "nbformat": 4,
 "nbformat_minor": 5
}
